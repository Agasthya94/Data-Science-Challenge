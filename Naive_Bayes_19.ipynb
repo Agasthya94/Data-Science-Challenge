{
 "cells": [
  {
   "cell_type": "code",
   "execution_count": 37,
   "metadata": {
    "collapsed": true
   },
   "outputs": [],
   "source": [
    "import pandas as pd\n",
    "import numpy as np\n",
    "import math\n",
    "from sklearn.naive_bayes import GaussianNB\n",
    "from sklearn import metrics\n",
    "\n",
    "#Read from the files.\n",
    "\n",
    "impr = pd.read_csv('imp.20131019.txt', sep = '\\t', header = None)\n",
    "clk =  pd.read_csv('clk.20131019.txt', sep = '\\t', header = None)\n",
    "\n"
   ]
  },
  {
   "cell_type": "code",
   "execution_count": 38,
   "metadata": {
    "collapsed": true
   },
   "outputs": [],
   "source": [
    "#Delete the log type field from both the data frames\n",
    "del impr[2]\n",
    "del clk[2]\n",
    "\n",
    "# Converting the dataframes to numpy arrays\n",
    "impr_np = impr.values\n",
    "click = clk.values\n",
    "\n",
    "b = []\n",
    "## Concatenating the BidId and Timestamp to get unique values for each row.\n",
    "for i in range(len(impr_np)):\n",
    "    b.append(impr_np[i][0]+ str(impr_np[i][1]))\n",
    "    \n",
    "col = np.array(b).reshape(len(impr_np),1)\n",
    "\n",
    "#Deleting the BidId and timestamp fields from the data and appending the concatenated values.\n",
    "n_impr = np.delete(impr_np,0,1)\n",
    "ne_impr = np.delete(n_impr,0,1)\n",
    "\n",
    "new_impr = np.append(ne_impr,col,axis=1)\n",
    "\n",
    "#Repeating the above steps for the clicks data\n",
    "c= []\n",
    "\n",
    "for i in range(len(click)):\n",
    "    c.append(click[i][0]+ str(click[i][1]))\n",
    "\n",
    "colc = np.array(c).reshape(len(click),1)\n",
    "\n",
    "n_click = np.delete(click,0,1)\n",
    "ne_click = np.delete(n_click,0,1)\n",
    "new_click =np.append(ne_click,colc,axis=1)\n"
   ]
  },
  {
   "cell_type": "code",
   "execution_count": 39,
   "metadata": {},
   "outputs": [
    {
     "name": "stdout",
     "output_type": "stream",
     "text": [
      "(228133, 1)\n"
     ]
    }
   ],
   "source": [
    "#Appending the log type to the impressions data\n",
    "ones_ar = np.ones((len(new_impr),1), dtype=int)\n",
    "print(ones_ar.shape)\n",
    "\n",
    "new_impr = np.append(new_impr,ones_ar,axis=1)\n",
    "\n",
    "# Changing the log type to 2 in the impression matrix based on the clicks data\n",
    "for i in range(len(new_impr)):\n",
    "    if new_impr[i][21] in new_click[:,21]:\n",
    "        new_impr[i][22] = 2\n"
   ]
  },
  {
   "cell_type": "code",
   "execution_count": 40,
   "metadata": {},
   "outputs": [
    {
     "name": "stdout",
     "output_type": "stream",
     "text": [
      "(228133, 23)\n"
     ]
    }
   ],
   "source": [
    "print(new_impr.shape)"
   ]
  },
  {
   "cell_type": "code",
   "execution_count": 41,
   "metadata": {},
   "outputs": [
    {
     "name": "stdout",
     "output_type": "stream",
     "text": [
      "(228133, 11)\n",
      "[234 2 '33235ca84c5fee9254e6512a41b3ad5e' '3061584349' 728 90 'OtherView' 5\n",
      " 7330 48 1]\n"
     ]
    }
   ],
   "source": [
    "# Removing the unneccessary features\n",
    "remove_indices = [0,1,2,3,7,8,13,16,18,19,20,21]\n",
    "\n",
    "for i in range(len(remove_indices)):\n",
    "    new_impr = np.delete(new_impr,remove_indices[i]-i,1)\n",
    "print(new_impr.shape)\n",
    "print(new_impr[0])\n",
    "\n",
    "# City, adexchange, domain,adslotid,width, height,view,floorprice,creative id, paying price\n"
   ]
  },
  {
   "cell_type": "code",
   "execution_count": 42,
   "metadata": {},
   "outputs": [
    {
     "name": "stdout",
     "output_type": "stream",
     "text": [
      "(228133, 11)\n",
      "[18 2 927 5566 10 1 4 2 14 48 1]\n"
     ]
    }
   ],
   "source": [
    "#Changing the values in the dataset(hashed,ID's) to numeric values\n",
    "for col_num in range(10):\n",
    "    if col_num != 1:\n",
    "        uni_npr = np.unique(new_impr[:,col_num])\n",
    "        uni_list = uni_npr.tolist()\n",
    "        for row_num in range(len(new_impr)):\n",
    "            new_impr[row_num][col_num] = uni_list.index(new_impr[row_num][col_num])\n",
    "print(new_impr.shape)\n",
    "print(new_impr[0])\n",
    "\n",
    "#Data pre-processing done."
   ]
  },
  {
   "cell_type": "code",
   "execution_count": 80,
   "metadata": {
    "collapsed": true
   },
   "outputs": [],
   "source": [
    "#Dividing the data into training data and lables\n",
    "\n",
    "X = new_impr[:,:10]\n",
    "Y = new_impr[:,10]\n",
    "\n",
    "Y=Y.astype('int')\n",
    "for i in range(len(X)):\n",
    "    for j in range(len(X[i])):\n",
    "        X[i][j] = float(X[i][j])\n",
    "\n",
    "for i in range(len(Y)):\n",
    "    Y[i] = float(Y[i])\n",
    "\n",
    "x_len = len(X)\n",
    "\n",
    "#Splitting the data - Training(75%), Testing(25%)\n",
    "split_percent = 0.75\n",
    "\n",
    "len_train = math.floor(x_len * split_percent);\n",
    "\n",
    "X_train = X[:len_train]\n",
    "Y_train = Y[:len_train]\n"
   ]
  },
  {
   "cell_type": "code",
   "execution_count": 81,
   "metadata": {
    "collapsed": true
   },
   "outputs": [],
   "source": [
    "#Gusssian Naive Bayes Classifier\n",
    "\n",
    "clf = GaussianNB()\n",
    "clf = clf.fit(X_train,Y_train)\n",
    "\n",
    "#Validation dataset for testing\n",
    "\n",
    "X_validation = X[len_train:len(X)]\n",
    "Y_validation = Y[len_train:len(Y)]\n",
    "\n",
    "#Prediction\n",
    "output_Predicted = clf.predict(X_validation);"
   ]
  },
  {
   "cell_type": "code",
   "execution_count": 82,
   "metadata": {},
   "outputs": [
    {
     "name": "stdout",
     "output_type": "stream",
     "text": [
      "Accuracy on the Training Data set is :\n",
      "99.9614265175\n",
      "Recall on the Training Data set is :\n",
      "99.9614265175\n",
      "Precision on the Training Data set is :\n",
      "100.0\n"
     ]
    }
   ],
   "source": [
    "#Measuring accuracy using, recall, precision\n",
    "accuracy_training = metrics.accuracy_score(output_Predicted,Y_validation)\n",
    "print(\"Accuracy on the Training Data set is :\")\n",
    "print(accuracy_training* 100)\n",
    "\n",
    "recall_training = metrics.recall_score(output_Predicted,Y_validation)\n",
    "print(\"Recall on the Training Data set is :\")\n",
    "print(recall_training* 100)\n",
    "\n",
    "\n",
    "precision_training = metrics.precision_score(output_Predicted,Y_validation)\n",
    "print(\"Precision on the Training Data set is :\")\n",
    "print(precision_training* 100)\n"
   ]
  },
  {
   "cell_type": "code",
   "execution_count": 83,
   "metadata": {},
   "outputs": [
    {
     "name": "stdout",
     "output_type": "stream",
     "text": [
      "[1640, 1940, 5964, 8663, 14560, 15332, 20748, 20781, 23816, 25270, 31312, 36322, 38345, 39294, 40056, 42359, 42769, 50117, 52353, 52938, 53312, 54443]\n",
      "(57034, 2)\n"
     ]
    }
   ],
   "source": [
    "output_Prob = clf.predict_proba(X_validation);\n",
    "\n",
    "acc_list = []\n",
    "\n",
    "for i in range(len(Y_validation)):\n",
    "    if(Y_validation[i] == 2):\n",
    "        acc_list.append(i)\n",
    "print(acc_list)\n",
    "print(output_Prob.shape)"
   ]
  },
  {
   "cell_type": "code",
   "execution_count": 84,
   "metadata": {},
   "outputs": [
    {
     "name": "stdout",
     "output_type": "stream",
     "text": [
      "predicted ctr  0.00570967548537\n",
      "actual ctr  0.0003638228577189622\n"
     ]
    }
   ],
   "source": [
    "ac_ctr = len(click)/len(impr_np)\n",
    "ctr = 0;\n",
    "\n",
    "for i in range(len(acc_list)):\n",
    "    ctr = ctr + output_Prob[acc_list[0]][1]\n",
    "\n",
    "#for i in range(len(output_Prob)):\n",
    "#    ctr = ctr + output_Prob[i][1]\n",
    "\n",
    "ctr = ctr/len(acc_list)\n",
    "print(\"predicted ctr \", ctr)\n",
    "print(\"actual ctr \",ac_ctr)"
   ]
  },
  {
   "cell_type": "code",
   "execution_count": 85,
   "metadata": {},
   "outputs": [
    {
     "name": "stdout",
     "output_type": "stream",
     "text": [
      "total predicted probability ctr=  0.00156868126037\n"
     ]
    }
   ],
   "source": [
    "clf1 = GaussianNB()\n",
    "clf1.fit(X,Y)\n",
    "\n",
    "tot_pred_ctr =0\n",
    "\n",
    "op_pred_prob = clf.predict_proba(X)\n",
    "\n",
    "for i in range(len(op_pred_prob)):\n",
    "    tot_pred_ctr = tot_pred_ctr + op_pred_prob[i][1]\n",
    "tot_pred_ctr = tot_pred_ctr/len(op_pred_prob)\n",
    "\n",
    "print(\"total predicted probability ctr= \", tot_pred_ctr)"
   ]
  }
 ],
 "metadata": {
  "kernelspec": {
   "display_name": "Python 3",
   "language": "python",
   "name": "python3"
  },
  "language_info": {
   "codemirror_mode": {
    "name": "ipython",
    "version": 3
   },
   "file_extension": ".py",
   "mimetype": "text/x-python",
   "name": "python",
   "nbconvert_exporter": "python",
   "pygments_lexer": "ipython3",
   "version": "3.6.3"
  }
 },
 "nbformat": 4,
 "nbformat_minor": 2
}
